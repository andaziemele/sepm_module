{
 "cells": [
  {
   "cell_type": "code",
   "execution_count": 3,
   "metadata": {},
   "outputs": [
    {
     "name": "stdout",
     "output_type": "stream",
     "text": [
      "\u001b[31mF\u001b[0m\u001b[31mF\u001b[0m\u001b[31mF\u001b[0m\u001b[31mF\u001b[0m\u001b[31mF\u001b[0m\u001b[31m                                                                    [100%]\u001b[0m\n",
      "=================================== FAILURES ===================================\n",
      "\u001b[31m\u001b[1m_________________________ test_default_initial_amount __________________________\u001b[0m\n",
      "\n",
      "    \u001b[94mdef\u001b[39;49;00m \u001b[92mtest_default_initial_amount\u001b[39;49;00m():\n",
      "        wallet = Wallet()\n",
      ">       \u001b[94massert\u001b[39;49;00m wallet.balance == \u001b[94m0\u001b[39;49;00m\n",
      "\u001b[1m\u001b[31mE       assert 30 == 0\u001b[0m\n",
      "\u001b[1m\u001b[31mE        +  where 30 = <wallet.Wallet object at 0x7ff6509447f0>.balance\u001b[0m\n",
      "\n",
      "\u001b[1m\u001b[31mtest_wallet.py\u001b[0m:9: AssertionError\n",
      "\u001b[31m\u001b[1m_________________________ test_setting_initial_amount __________________________\u001b[0m\n",
      "\n",
      "    \u001b[94mdef\u001b[39;49;00m \u001b[92mtest_setting_initial_amount\u001b[39;49;00m():\n",
      "        wallet = Wallet(\u001b[94m100\u001b[39;49;00m)\n",
      ">       \u001b[94massert\u001b[39;49;00m wallet.balance == \u001b[94m100\u001b[39;49;00m\n",
      "\u001b[1m\u001b[31mE       assert 110 == 100\u001b[0m\n",
      "\u001b[1m\u001b[31mE        +  where 110 = <wallet.Wallet object at 0x7ff650944d90>.balance\u001b[0m\n",
      "\n",
      "\u001b[1m\u001b[31mtest_wallet.py\u001b[0m:14: AssertionError\n",
      "\u001b[31m\u001b[1m_____________________________ test_wallet_add_cash _____________________________\u001b[0m\n",
      "\n",
      "    \u001b[94mdef\u001b[39;49;00m \u001b[92mtest_wallet_add_cash\u001b[39;49;00m():\n",
      "        wallet = Wallet(\u001b[94m10\u001b[39;49;00m)\n",
      "        wallet.add_cash(\u001b[94m90\u001b[39;49;00m)\n",
      ">       \u001b[94massert\u001b[39;49;00m wallet.balance == \u001b[94m100\u001b[39;49;00m\n",
      "\u001b[1m\u001b[31mE       assert 29.0 == 100\u001b[0m\n",
      "\u001b[1m\u001b[31mE        +  where 29.0 = <wallet.Wallet object at 0x7ff6508dcfd0>.balance\u001b[0m\n",
      "\n",
      "\u001b[1m\u001b[31mtest_wallet.py\u001b[0m:20: AssertionError\n",
      "\u001b[31m\u001b[1m____________________________ test_wallet_spend_cash ____________________________\u001b[0m\n",
      "\n",
      "    \u001b[94mdef\u001b[39;49;00m \u001b[92mtest_wallet_spend_cash\u001b[39;49;00m():\n",
      "        wallet = Wallet(\u001b[94m20\u001b[39;49;00m)\n",
      "        wallet.spend_cash(\u001b[94m10\u001b[39;49;00m)\n",
      ">       \u001b[94massert\u001b[39;49;00m wallet.balance == \u001b[94m10\u001b[39;49;00m\n",
      "\u001b[1m\u001b[31mE       assert 20 == 10\u001b[0m\n",
      "\u001b[1m\u001b[31mE        +  where 20 = <wallet.Wallet object at 0x7ff650965160>.balance\u001b[0m\n",
      "\n",
      "\u001b[1m\u001b[31mtest_wallet.py\u001b[0m:26: AssertionError\n",
      "\u001b[31m\u001b[1m________ test_wallet_spend_cash_raises_exception_on_insufficient_amount ________\u001b[0m\n",
      "\n",
      "    \u001b[94mdef\u001b[39;49;00m \u001b[92mtest_wallet_spend_cash_raises_exception_on_insufficient_amount\u001b[39;49;00m():\n",
      "        wallet = Wallet()\n",
      "        \u001b[94mwith\u001b[39;49;00m pytest.raises(InsufficientAmount):\n",
      ">           wallet.spend_cash(\u001b[94m100\u001b[39;49;00m)\n",
      "\u001b[1m\u001b[31mE           Failed: DID NOT RAISE <class 'wallet.InsufficientAmount'>\u001b[0m\n",
      "\n",
      "\u001b[1m\u001b[31mtest_wallet.py\u001b[0m:32: Failed\n",
      "=========================== short test summary info ============================\n",
      "FAILED test_wallet.py::test_default_initial_amount - assert 30 == 0\n",
      "FAILED test_wallet.py::test_setting_initial_amount - assert 110 == 100\n",
      "FAILED test_wallet.py::test_wallet_add_cash - assert 29.0 == 100\n",
      "FAILED test_wallet.py::test_wallet_spend_cash - assert 20 == 10\n",
      "FAILED test_wallet.py::test_wallet_spend_cash_raises_exception_on_insufficient_amount\n",
      "\u001b[31m\u001b[31m\u001b[1m5 failed\u001b[0m\u001b[31m in 0.06s\u001b[0m\u001b[0m\n"
     ]
    }
   ],
   "source": [
    "! pytest -q test_wallet.py"
   ]
  },
  {
   "cell_type": "code",
   "execution_count": null,
   "metadata": {},
   "outputs": [],
   "source": []
  }
 ],
 "metadata": {
  "kernelspec": {
   "display_name": "Python 3",
   "language": "python",
   "name": "python3"
  },
  "language_info": {
   "codemirror_mode": {
    "name": "ipython",
    "version": 3
   },
   "file_extension": ".py",
   "mimetype": "text/x-python",
   "name": "python",
   "nbconvert_exporter": "python",
   "pygments_lexer": "ipython3",
   "version": "3.8.5"
  }
 },
 "nbformat": 4,
 "nbformat_minor": 4
}
